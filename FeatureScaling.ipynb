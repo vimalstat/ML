{
 "cells": [
  {
   "cell_type": "markdown",
   "metadata": {},
   "source": [
    "#Feature Scaling:\n",
    "\n",
    "Feature Scaling is a technique to standardize the independent features present in the data in a fixed range. \n",
    "It is performed during the data pre-processing.\n",
    "\n",
    "Use Case:\n",
    "\n",
    "Given a data-set with features- Age, Salary, BHK Apartment with the data size of 5000 people, \n",
    "each having these independent data features. Each data point is labeled as:\n",
    "\n",
    "Class1- YES (means with the given Age, Salary, BHK Apartment feature value one can buy the property)\n",
    "Class2- NO (means with the given Age, Salary, BHK Apartment feature value one can’t buy the property).\n",
    "\n",
    "Using dataset to train the model, one aims to build a model that can predict \n",
    "whether one can buy a property or not with given feature values.\n",
    "\n",
    "Need of Feature Scaling:\n",
    "    \n",
    "The given data set contains 3 features – Age, Salary, BHK Apartment. Consider a range of 10- 60 for Age, \n",
    "1 Lac- 40 Lacs for Salary, 1- 5 for BHK of Flat. All these features are independent of each of other.\n",
    "Suppose the centroid of class 1 is [40, 22 Lacs, 3] and data point to be predicted is [57, 33 Lacs, 2].\n",
    "\n",
    "Using Manhattan Method:\n",
    "\n",
    "Distance = (|(40 - 57)| + |(2200000 - 3300000)| + |(3 - 2)|)\n",
    "\n",
    "It can be seen that Salary feature will dominate all other features while predicting the class of the given data point \n",
    "and since all the features are independent of each other i.e. a person’s salary has no relation with his/her age or \n",
    "what requirement of flat he/she has. This means that the model will always predict wrong.\n",
    "So, the simple solution to this problem is Feature Scaling. Feature Scaling Algorithms will scale Age, Salary, \n",
    "BHK in fixed range say [-1, 1] or [0, 1]. And then no feature can dominate other."
   ]
  },
  {
   "cell_type": "code",
   "execution_count": 2,
   "metadata": {},
   "outputs": [],
   "source": [
    "# perform Feature Scaling"
   ]
  },
  {
   "cell_type": "code",
   "execution_count": 37,
   "metadata": {},
   "outputs": [],
   "source": [
    "#importing libraries\n",
    "import pandas as pd\n",
    "from sklearn import preprocessing\n"
   ]
  },
  {
   "cell_type": "code",
   "execution_count": 44,
   "metadata": {},
   "outputs": [
    {
     "name": "stdout",
     "output_type": "stream",
     "text": [
      "   BHK Apartment   Age   Salary Purchased\n",
      "0              2  44.0  72000.0        No\n",
      "1              2  27.0  48000.0       Yes\n",
      "2              3  30.0  54000.0        No\n",
      "3              3  38.0  61000.0        No\n",
      "4              3  40.0      NaN       Yes\n",
      "BHK Apartment    0\n",
      "Age              1\n",
      "Salary           1\n",
      "Purchased        0\n",
      "dtype: int64\n"
     ]
    },
    {
     "data": {
      "text/html": [
       "<div>\n",
       "<style scoped>\n",
       "    .dataframe tbody tr th:only-of-type {\n",
       "        vertical-align: middle;\n",
       "    }\n",
       "\n",
       "    .dataframe tbody tr th {\n",
       "        vertical-align: top;\n",
       "    }\n",
       "\n",
       "    .dataframe thead th {\n",
       "        text-align: right;\n",
       "    }\n",
       "</style>\n",
       "<table border=\"1\" class=\"dataframe\">\n",
       "  <thead>\n",
       "    <tr style=\"text-align: right;\">\n",
       "      <th></th>\n",
       "      <th>BHK Apartment</th>\n",
       "      <th>Age</th>\n",
       "      <th>Salary</th>\n",
       "      <th>Purchased</th>\n",
       "    </tr>\n",
       "  </thead>\n",
       "  <tbody>\n",
       "    <tr>\n",
       "      <th>0</th>\n",
       "      <td>2</td>\n",
       "      <td>44</td>\n",
       "      <td>72000</td>\n",
       "      <td>No</td>\n",
       "    </tr>\n",
       "    <tr>\n",
       "      <th>1</th>\n",
       "      <td>2</td>\n",
       "      <td>27</td>\n",
       "      <td>48000</td>\n",
       "      <td>Yes</td>\n",
       "    </tr>\n",
       "    <tr>\n",
       "      <th>2</th>\n",
       "      <td>3</td>\n",
       "      <td>30</td>\n",
       "      <td>54000</td>\n",
       "      <td>No</td>\n",
       "    </tr>\n",
       "    <tr>\n",
       "      <th>3</th>\n",
       "      <td>3</td>\n",
       "      <td>38</td>\n",
       "      <td>61000</td>\n",
       "      <td>No</td>\n",
       "    </tr>\n",
       "    <tr>\n",
       "      <th>4</th>\n",
       "      <td>3</td>\n",
       "      <td>40</td>\n",
       "      <td>63777</td>\n",
       "      <td>Yes</td>\n",
       "    </tr>\n",
       "    <tr>\n",
       "      <th>5</th>\n",
       "      <td>3</td>\n",
       "      <td>35</td>\n",
       "      <td>58000</td>\n",
       "      <td>Yes</td>\n",
       "    </tr>\n",
       "    <tr>\n",
       "      <th>6</th>\n",
       "      <td>2</td>\n",
       "      <td>38</td>\n",
       "      <td>52000</td>\n",
       "      <td>No</td>\n",
       "    </tr>\n",
       "    <tr>\n",
       "      <th>7</th>\n",
       "      <td>3</td>\n",
       "      <td>48</td>\n",
       "      <td>79000</td>\n",
       "      <td>Yes</td>\n",
       "    </tr>\n",
       "    <tr>\n",
       "      <th>8</th>\n",
       "      <td>3</td>\n",
       "      <td>50</td>\n",
       "      <td>83000</td>\n",
       "      <td>No</td>\n",
       "    </tr>\n",
       "    <tr>\n",
       "      <th>9</th>\n",
       "      <td>3</td>\n",
       "      <td>37</td>\n",
       "      <td>67000</td>\n",
       "      <td>Yes</td>\n",
       "    </tr>\n",
       "  </tbody>\n",
       "</table>\n",
       "</div>"
      ],
      "text/plain": [
       "   BHK Apartment  Age  Salary Purchased\n",
       "0              2   44   72000        No\n",
       "1              2   27   48000       Yes\n",
       "2              3   30   54000        No\n",
       "3              3   38   61000        No\n",
       "4              3   40   63777       Yes\n",
       "5              3   35   58000       Yes\n",
       "6              2   38   52000        No\n",
       "7              3   48   79000       Yes\n",
       "8              3   50   83000        No\n",
       "9              3   37   67000       Yes"
      ]
     },
     "execution_count": 44,
     "metadata": {},
     "output_type": "execute_result"
    }
   ],
   "source": [
    "#loading sample data\n",
    "url=r'https://github.com/vimalstat/ML/blob/main/Apartment_Purchase.csv?raw=true'\n",
    "df =  pd.read_csv(url)\n",
    "print(df.head())\n",
    "#handling missing values\n",
    "print(df.isnull().sum())\n",
    "\n",
    "df['Age'] = df['Age'].fillna(df['Age'].mean()).astype('int')\n",
    "df['Salary'] = df['Salary'].fillna(df['Salary'].mean()).astype('int')\n",
    "df.head(20)\n"
   ]
  },
  {
   "cell_type": "code",
   "execution_count": 36,
   "metadata": {},
   "outputs": [
    {
     "name": "stdout",
     "output_type": "stream",
     "text": [
      "\n",
      "Original data values : \n",
      " [[    2    44 72000]\n",
      " [    2    27 48000]\n",
      " [    3    30 54000]\n",
      " [    3    38 61000]\n",
      " [    3    40 63777]\n",
      " [    3    35 58000]\n",
      " [    2    38 52000]\n",
      " [    3    48 79000]\n",
      " [    3    50 83000]\n",
      " [    3    37 67000]]\n"
     ]
    }
   ],
   "source": [
    "#here Features - BHK APartment, Age and Salary columns\n",
    "x = df.iloc[:, 0:3].values\n",
    "print (\"\\nOriginal data values : \\n\",  x)"
   ]
  },
  {
   "cell_type": "code",
   "execution_count": 33,
   "metadata": {},
   "outputs": [
    {
     "name": "stdout",
     "output_type": "stream",
     "text": [
      "\n",
      "After min max Scaling : \n",
      " [[0.         0.73913043 0.68571429]\n",
      " [0.         0.         0.        ]\n",
      " [1.         0.13043478 0.17142857]\n",
      " [1.         0.47826087 0.37142857]\n",
      " [1.         0.56521739 0.45077143]\n",
      " [1.         0.34782609 0.28571429]\n",
      " [0.         0.47826087 0.11428571]\n",
      " [1.         0.91304348 0.88571429]\n",
      " [1.         1.         1.        ]\n",
      " [1.         0.43478261 0.54285714]]\n",
      "\n",
      "After Standardisation : \n",
      " [[-1.52752523e+00  7.69734393e-01  7.49480344e-01]\n",
      " [-1.52752523e+00 -1.69922498e+00 -1.43817132e+00]\n",
      " [ 6.54653671e-01 -1.26352627e+00 -8.91258402e-01]\n",
      " [ 6.54653671e-01 -1.01663033e-01 -2.53193334e-01]\n",
      " [ 6.54653671e-01  1.88802776e-01 -6.38065068e-05]\n",
      " [ 6.54653671e-01 -5.37361746e-01 -5.26649792e-01]\n",
      " [-1.52752523e+00 -1.01663033e-01 -1.07356271e+00]\n",
      " [ 6.54653671e-01  1.35066601e+00  1.38754541e+00]\n",
      " [ 6.54653671e-01  1.64113182e+00  1.75215402e+00]\n",
      " [ 6.54653671e-01 -2.46895937e-01  2.93719581e-01]]\n"
     ]
    }
   ],
   "source": [
    "# Scaled feature\n",
    "\n",
    "#MIN MAX SCALER\n",
    "min_max_scaler = preprocessing.MinMaxScaler(feature_range =(0, 1))\n",
    "x_after_min_max_scaler = min_max_scaler.fit_transform(x)\n",
    "print (\"\\nAfter min max Scaling : \\n\", x_after_min_max_scaler)\n",
    "\n",
    "#Standardisation\n",
    "Standardisation = preprocessing.StandardScaler()\n",
    "x_after_Standardisation = Standardisation.fit_transform(x)\n",
    "print (\"\\nAfter Standardisation : \\n\", x_after_Standardisation)"
   ]
  }
 ],
 "metadata": {
  "kernelspec": {
   "display_name": "Python 3",
   "language": "python",
   "name": "python3"
  },
  "language_info": {
   "codemirror_mode": {
    "name": "ipython",
    "version": 3
   },
   "file_extension": ".py",
   "mimetype": "text/x-python",
   "name": "python",
   "nbconvert_exporter": "python",
   "pygments_lexer": "ipython3",
   "version": "3.8.5"
  },
  "widgets": {
   "application/vnd.jupyter.widget-state+json": {
    "state": {},
    "version_major": 2,
    "version_minor": 0
   }
  }
 },
 "nbformat": 4,
 "nbformat_minor": 4
}
